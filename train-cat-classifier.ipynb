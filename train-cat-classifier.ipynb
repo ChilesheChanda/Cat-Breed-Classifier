{
 "cells": [
  {
   "cell_type": "markdown",
   "id": "fe98a166-7700-4195-9848-3e39a586ffaf",
   "metadata": {},
   "source": [
    "# Load data"
   ]
  },
  {
   "cell_type": "code",
   "execution_count": null,
   "id": "fbae5806-24cf-49e3-a62b-f0c9fc4217b4",
   "metadata": {},
   "outputs": [],
   "source": []
  },
  {
   "cell_type": "markdown",
   "id": "478ba4fd-a1c5-43a4-a634-ffba65563ec5",
   "metadata": {},
   "source": [
    "# Clean data"
   ]
  },
  {
   "cell_type": "code",
   "execution_count": null,
   "id": "5de8b00d-27d1-4693-918c-90e087b9842f",
   "metadata": {},
   "outputs": [],
   "source": []
  },
  {
   "cell_type": "markdown",
   "id": "2d24f13b-22ca-4c41-8f77-cdc66a65019c",
   "metadata": {},
   "source": [
    "# train model / clean data"
   ]
  },
  {
   "cell_type": "code",
   "execution_count": null,
   "id": "3dbb0dc9-3f3d-4553-a323-0d799a843c95",
   "metadata": {},
   "outputs": [],
   "source": []
  },
  {
   "cell_type": "markdown",
   "id": "7adc9705-6855-4f1d-b7bb-321cef5b827c",
   "metadata": {},
   "source": [
    "# export to cat.pk1"
   ]
  },
  {
   "cell_type": "code",
   "execution_count": null,
   "id": "94c3dd8d-016c-40b5-b4b2-a21518f3a257",
   "metadata": {},
   "outputs": [],
   "source": []
  }
 ],
 "metadata": {
  "environment": {
   "kernel": "python3",
   "name": "managed-notebooks.m90",
   "type": "gcloud",
   "uri": "gcr.io/deeplearning-platform-release/base-cu110:latest"
  },
  "kernelspec": {
   "display_name": "Python (Local)",
   "language": "python",
   "name": "local-base"
  },
  "language_info": {
   "codemirror_mode": {
    "name": "ipython",
    "version": 3
   },
   "file_extension": ".py",
   "mimetype": "text/x-python",
   "name": "python",
   "nbconvert_exporter": "python",
   "pygments_lexer": "ipython3",
   "version": "3.7.12"
  }
 },
 "nbformat": 4,
 "nbformat_minor": 5
}
